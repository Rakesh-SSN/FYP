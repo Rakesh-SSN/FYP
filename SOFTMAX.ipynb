{
  "nbformat": 4,
  "nbformat_minor": 0,
  "metadata": {
    "colab": {
      "name": "SOFTMAX",
      "provenance": [],
      "collapsed_sections": [],
      "include_colab_link": true
    },
    "kernelspec": {
      "display_name": "Python 3",
      "name": "python3"
    }
  },
  "cells": [
    {
      "cell_type": "markdown",
      "metadata": {
        "id": "view-in-github",
        "colab_type": "text"
      },
      "source": [
        "<a href=\"https://colab.research.google.com/github/Rakesh-SSN/FYP/blob/master/SOFTMAX.ipynb\" target=\"_parent\"><img src=\"https://colab.research.google.com/assets/colab-badge.svg\" alt=\"Open In Colab\"/></a>"
      ]
    },
    {
      "cell_type": "code",
      "metadata": {
        "id": "1AF3TX34ZoQU",
        "colab_type": "code",
        "outputId": "8b24b3da-4c90-4210-f4f5-3545b9dadb79",
        "colab": {
          "base_uri": "https://localhost:8080/",
          "height": 34
        }
      },
      "source": [
        "from google.colab import drive\n",
        "drive.mount('/content/drive',force_remount=True)"
      ],
      "execution_count": 1,
      "outputs": [
        {
          "output_type": "stream",
          "text": [
            "Mounted at /content/drive\n"
          ],
          "name": "stdout"
        }
      ]
    },
    {
      "cell_type": "markdown",
      "metadata": {
        "id": "QlUqQp3_ATyz",
        "colab_type": "text"
      },
      "source": [
        "The below code reads the output file and converts into a 2 D list of probabilities\n"
      ]
    },
    {
      "cell_type": "code",
      "metadata": {
        "id": "IazG-PutaiHZ",
        "colab_type": "code",
        "colab": {}
      },
      "source": [
        "def conv(filename,algorithm):\n",
        "  if(algorithm==\"BERT\"):\n",
        "    path=\"/content/drive/My Drive/FYP/bert/glue/cola/\"+filename+\".txt\"\n",
        "  elif(algorithm==\"USE\"):\n",
        "    path=\"/content/drive/My Drive/FYP/bert/glue/cola/buffer/USE/\"+filename+\".txt\"\n",
        "  elif(algorithm==\"SEQ\"):\n",
        "    path=\"/content/drive/My Drive/FYP/bert/glue/cola/buffer/SEQ/\"+filename+\".txt\"\n",
        "  \n",
        "  with open(path) as f:\n",
        "    lang_task = []\n",
        "    for line in f:\n",
        "      line=line.replace(\"[[\",\"\").replace(\"]\\n\",\"\").replace(\"]]\",\"\").replace(\"[\",\"\").replace(\"]\",\"\")\n",
        "      line=line.rstrip().lstrip().split(\" \")\n",
        "      #print(line)\n",
        "      while(line.count('')!=0):\n",
        "        line.remove('')  \n",
        "      for i in range(len(line)):\n",
        "        if(algorithm=='SEQ'):\n",
        "          line[i]=int(line[i])\n",
        "        else:\n",
        "          line[i]=float(line[i])\n",
        "      lang_task.append(line)\n",
        "  return lang_task\n",
        "\n",
        "\n",
        "\n",
        "\n",
        "\n",
        "\n",
        "\n"
      ],
      "execution_count": 0,
      "outputs": []
    },
    {
      "cell_type": "markdown",
      "metadata": {
        "id": "tiTPfOgRAh7F",
        "colab_type": "text"
      },
      "source": [
        ""
      ]
    },
    {
      "cell_type": "code",
      "metadata": {
        "id": "y6MbDSQZAhCI",
        "colab_type": "code",
        "colab": {}
      },
      "source": [
        "BERT_task1tamil_results=conv(\"task1tamil-results\",\"BERT\")\n",
        "BERT_task1hindi_results=conv(\"task1hindi-results\",\"BERT\")\n",
        "BERT_task1malayalam_results=conv(\"task1malayalam-results\",\"BERT\")\n",
        "BERT_task1punjabi_results=conv(\"task1punjabi-results\",\"BERT\")\n",
        "\n",
        "\n",
        "BERT_task2tamil_results=conv(\"task2tamil-results\",\"BERT\")\n",
        "BERT_task2hindi_results=conv(\"task2hindi-results\",\"BERT\")\n",
        "BERT_task2malayalam_results=conv(\"task2malayalam-results\",\"BERT\")\n",
        "BERT_task2punjabi_results=conv(\"task2punjabi-results\",\"BERT\")\n",
        "\n",
        "USE_task1tamil_results=conv(\"USE_task1tamil-results\",\"USE\")\n",
        "USE_task1hindi_results=conv(\"USE_task1hindi-results\",\"USE\")\n",
        "USE_task1malayalam_results=conv(\"USE_task1malayalam-results\",\"USE\")\n",
        "USE_task1punjabi_results=conv(\"USE_task1punjabi-results\",\"USE\")\n",
        "\n",
        "\n",
        "USE_task2tamil_results=conv(\"USE_task2tamil-results\",\"USE\")\n",
        "USE_task2hindi_results=conv(\"USE_task2hindi-results\",\"USE\")\n",
        "USE_task2malayalam_results=conv(\"USE_task2malayalam-results\",\"USE\")\n",
        "USE_task2punjabi_results=conv(\"USE_task2punjabi-results\",\"USE\")\n",
        "\n",
        "\n",
        "SEQ_task1tamil_results=conv(\"SEQ_task1tamil-results\",\"SEQ\")\n",
        "SEQ_task1hindi_results=conv(\"SEQ_task1hindi-results\",\"SEQ\")\n",
        "SEQ_task1malayalam_results=conv(\"SEQ_task1malayalam-results\",\"SEQ\")\n",
        "SEQ_task1punjabi_results=conv(\"SEQ_task1punjabi-results\",\"SEQ\")\n",
        "\n",
        "\n",
        "SEQ_task2tamil_results=conv(\"SEQ_task2tamil-results\",\"SEQ\")\n",
        "SEQ_task2hindi_results=conv(\"SEQ_task2hindi-results\",\"SEQ\")\n",
        "SEQ_task2malayalam_results=conv(\"SEQ_task2malayalam-results\",\"SEQ\")\n",
        "SEQ_task2punjabi_results=conv(\"SEQ_task2punjabi-results\",\"SEQ\")\n"
      ],
      "execution_count": 0,
      "outputs": []
    },
    {
      "cell_type": "code",
      "metadata": {
        "id": "05cAI19euuav",
        "colab_type": "code",
        "colab": {}
      },
      "source": [
        "def merge(list1,list2):\n",
        "  result=[]\n",
        "  for i in range(len(list1)):\n",
        "    #print(list1[i])\n",
        "    for j in range(len(list2[i])):\n",
        "      list1[i].append(list2[i][j])\n",
        "\n",
        "    result.append(list1[i])\n",
        "    # print(result[i])\n",
        "  return result"
      ],
      "execution_count": 0,
      "outputs": []
    },
    {
      "cell_type": "code",
      "metadata": {
        "id": "56lzE9LJFAZ2",
        "colab_type": "code",
        "colab": {}
      },
      "source": [
        "# task1tamil_merge=merge(BERT_task1tamil_results,USE_task1tamil_results,SEQ_task1tamil_results)\n",
        "# # task2tamil_merge=merge(BERT_task2tamil_results,USE_task2tamil_results,SEQ_task2tamil_results)\n",
        "\n",
        "# task1hindi_merge=merge(BERT_task1hindi_results,USE_task1hindi_results,SEQ_task1hindi_results)\n",
        "# # task2hindi_merge=merge(BERT_task2hindi_results,USE_task2hindi_results,SEQ_task2hindi_results)\n",
        "\n",
        "# task1malayalam_merge=merge(BERT_task1malayalam_results,USE_task1malayalam_results,SEQ_task1malayalam_results)\n",
        "# # task2malayalam_merge=merge(BERT_task2malayalam_results,USE_task2malayalam_results,SEQ_task2malayalam_results)\n",
        "\n",
        "# task1punjabi_merge=merge(BERT_task1punjabi_results,USE_task1punjabi_results,SEQ_task1punjabi_results)\n",
        "# # task2punjabi_merge=merge(BERT_task2punjabi_results,USE_task2punjabi_results,SEQ_task2punjabi_results)"
      ],
      "execution_count": 0,
      "outputs": []
    },
    {
      "cell_type": "code",
      "metadata": {
        "id": "A8-ZgJ-3wgBe",
        "colab_type": "code",
        "colab": {}
      },
      "source": [
        "task1tamil_merge=merge(BERT_task1tamil_results,USE_task1tamil_results)\n",
        "task2tamil_merge=merge(BERT_task2tamil_results,USE_task2tamil_results)\n",
        "\n",
        "task1hindi_merge=merge(BERT_task1hindi_results,USE_task1hindi_results)\n",
        "task2hindi_merge=merge(BERT_task2hindi_results,USE_task2hindi_results)\n",
        "\n",
        "task1malayalam_merge=merge(BERT_task1malayalam_results,USE_task1malayalam_results)\n",
        "task2malayalam_merge=merge(BERT_task2malayalam_results,USE_task2malayalam_results)\n",
        "\n",
        "task1punjabi_merge=merge(BERT_task1punjabi_results,USE_task1punjabi_results)\n",
        "task2punjabi_merge=merge(BERT_task2punjabi_results,USE_task2punjabi_results)"
      ],
      "execution_count": 0,
      "outputs": []
    },
    {
      "cell_type": "code",
      "metadata": {
        "id": "QsnWQ45jUis4",
        "colab_type": "code",
        "colab": {}
      },
      "source": [
        "import numpy as np\n",
        "def softmax(x):\n",
        "    \"\"\"Compute softmax values for each sets of scores in x.\"\"\"\n",
        "    #print(len(x))\n",
        "    e_x = np.exp(x - np.max(x))\n",
        "    #print(np.max(x))\n",
        "    return e_x / e_x.sum()"
      ],
      "execution_count": 0,
      "outputs": []
    },
    {
      "cell_type": "code",
      "metadata": {
        "id": "3rao0Bkgbqgb",
        "colab_type": "code",
        "colab": {}
      },
      "source": [
        "\n",
        "\n",
        "def predict(task_lang_merge,task_number):\n",
        "  task_lang_results=[]\n",
        "  line_no=1\n",
        "  for i in range(len(task_lang_merge)):\n",
        "    task_lang_results.append(softmax(task_lang_merge[i]))\n",
        "  bert_and_use=[]\n",
        "  for i in range(len(task_lang_merge)):\n",
        "    # print(line_no,\" \",task_lang_results[i],\"--------\",end=\"\")\n",
        "    max_probability=task_lang_results[i].max()\n",
        "    x=np.where(task_lang_results[i]==max_probability)[0]\n",
        "    # print(x,\"---\",end=\"\")\n",
        "    if(task_number==1):\n",
        "      if(x==0):\n",
        "        #print(\"BERT-NP\")\n",
        "        bert_and_use.append(0)\n",
        "      elif(x==1):\n",
        "        #print(\"BERT-P\")\n",
        "        bert_and_use.append(1)\n",
        "      elif(x==2):\n",
        "        #print(\"USE-NP\")\n",
        "        bert_and_use.append(0)\n",
        "      elif(x==3):\n",
        "        #print(\"USE-P\")\n",
        "        bert_and_use.append(1)\n",
        "    else:\n",
        "      if(x==0):\n",
        "        #print(\"BERT-NP\")\n",
        "        bert_and_use.append(0)\n",
        "      elif(x==1):\n",
        "        #print(\"BERT-P\")\n",
        "        bert_and_use.append(1)\n",
        "      elif(x==2):\n",
        "        #print(\"BERT-SP\")\n",
        "        bert_and_use.append(2)\n",
        "      elif(x==3):\n",
        "        #print(\"USE-NP\")\n",
        "        bert_and_use.append(0)\n",
        "      elif(x==4):\n",
        "        #print(\"USE-P\")\n",
        "        bert_and_use.append(1)\n",
        "      elif(x==5):\n",
        "        #print(\"USE-SP\")\n",
        "        bert_and_use.append(2)\n",
        "        \n",
        "    line_no+=1\n",
        "  return bert_and_use"
      ],
      "execution_count": 0,
      "outputs": []
    },
    {
      "cell_type": "code",
      "metadata": {
        "id": "Q5DBlPstfhys",
        "colab_type": "code",
        "colab": {}
      },
      "source": [
        "USE_task1tamil_output=predict(USE_task1tamil_results,1)\n",
        "USE_task2tamil_output=predict(USE_task2tamil_results,2)\n",
        "\n",
        "USE_task1hindi_output=predict(USE_task1hindi_results,1)\n",
        "USE_task2hindi_output=predict(USE_task2hindi_results,2)\n",
        "\n",
        "USE_task1malayalam_output=predict(USE_task1malayalam_results,1)\n",
        "USE_task2malayalam_output=predict(USE_task2malayalam_results,2)\n",
        "\n",
        "USE_task1punjabi_output=predict(USE_task1punjabi_results,1)\n",
        "USE_task2punjabi_output=predict(USE_task2punjabi_results,2)"
      ],
      "execution_count": 0,
      "outputs": []
    },
    {
      "cell_type": "code",
      "metadata": {
        "id": "3JuuglfmVJC8",
        "colab_type": "code",
        "colab": {}
      },
      "source": [
        "BERT_task1tamil_output=predict(BERT_task1tamil_results,1)\n",
        "BERT_task2tamil_output=predict(BERT_task2tamil_results,2)\n",
        "\n",
        "BERT_task1hindi_output=predict(BERT_task1hindi_results,1)\n",
        "BERT_task2hindi_output=predict(BERT_task2hindi_results,2)\n",
        "\n",
        "BERT_task1malayalam_output=predict(BERT_task1malayalam_results,1)\n",
        "BERT_task2malayalam_output=predict(BERT_task2malayalam_results,2)\n",
        "\n",
        "BERT_task1punjabi_output=predict(BERT_task1punjabi_results,1)\n",
        "BERT_task2punjabi_output=predict(BERT_task2punjabi_results,2)"
      ],
      "execution_count": 0,
      "outputs": []
    },
    {
      "cell_type": "code",
      "metadata": {
        "id": "Qgko4fg9s1sl",
        "colab_type": "code",
        "colab": {}
      },
      "source": [
        "SEQ_task1tamil_output=predict(SEQ_task1tamil_results,1)\n",
        "SEQ_task2tamil_output=predict(SEQ_task2tamil_results,2)\n",
        "\n",
        "SEQ_task1hindi_output=predict(SEQ_task1hindi_results,1)\n",
        "SEQ_task2hindi_output=predict(SEQ_task2hindi_results,2)\n",
        "\n",
        "SEQ_task1malayalam_output=predict(SEQ_task1malayalam_results,1)\n",
        "SEQ_task2malayalam_output=predict(SEQ_task2malayalam_results,2)\n",
        "\n",
        "SEQ_task1punjabi_output=predict(SEQ_task1punjabi_results,1)\n",
        "SEQ_task2punjabi_output=predict(SEQ_task2punjabi_results,2)"
      ],
      "execution_count": 0,
      "outputs": []
    },
    {
      "cell_type": "code",
      "metadata": {
        "id": "MevAJbN2NT33",
        "colab_type": "code",
        "colab": {}
      },
      "source": [
        "# task1tamil_output=predict(task1tamil_merge,1)\n",
        "# task2tamil_output=predict(task2tamil_merge,2)"
      ],
      "execution_count": 0,
      "outputs": []
    },
    {
      "cell_type": "code",
      "metadata": {
        "id": "v02xPBVwW9lt",
        "colab_type": "code",
        "colab": {}
      },
      "source": [
        "# task1malayalam_output=predict(task1malayalam_merge,1)\n",
        "# task2malayalam_output=predict(task2malayalam_merge,2)"
      ],
      "execution_count": 0,
      "outputs": []
    },
    {
      "cell_type": "code",
      "metadata": {
        "id": "1x4A5UYoW_1g",
        "colab_type": "code",
        "colab": {}
      },
      "source": [
        "# task1hindi_output=predict(task1hindi_merge,1)\n",
        "# task2hindi_output=predict(task2hindi_merge,2)"
      ],
      "execution_count": 0,
      "outputs": []
    },
    {
      "cell_type": "code",
      "metadata": {
        "id": "4NLon2C5XBZu",
        "colab_type": "code",
        "colab": {}
      },
      "source": [
        "# task1punjabi_output=predict(task1punjabi_merge,1)\n",
        "# task2punjabi_output=predict(task2punjabi_merge,2)"
      ],
      "execution_count": 0,
      "outputs": []
    },
    {
      "cell_type": "code",
      "metadata": {
        "id": "a-OUROihep5y",
        "colab_type": "code",
        "colab": {}
      },
      "source": [
        "def get_truelabels(filename):\n",
        "  \n",
        "  path=\"/content/drive/My Drive/FYP/bert/glue/cola/buffer/true labels/\"+filename+\".txt\"\n",
        "  with open(path) as f:\n",
        "    truelabels = []\n",
        "    for line in f:\n",
        "      line=line.replace(\"[\",\"\").replace(\"]\\n\",\"\").replace(\"]\",\"\")\n",
        "      line=line.rstrip().lstrip().split(\" \")  \n",
        "      for i in range(len(line)):\n",
        "        line[i]=int(line[i])\n",
        "        truelabels.append(line[i])\n",
        "  return truelabels\n",
        "\n",
        "task1tamil_truelabels=get_truelabels(\"task1tamil-labels\")\n",
        "task1hindi_truelabels=get_truelabels(\"task1hindi-labels\")\n",
        "task1malayalam_truelabels=get_truelabels(\"task1malayalam-labels\")\n",
        "task1punjabi_truelabels=get_truelabels(\"task1punjabi-labels\")\n",
        "task2tamil_truelabels=get_truelabels(\"task2tamil-labels\")\n",
        "task2hindi_truelabels=get_truelabels(\"task2hindi-labels\")\n",
        "task2malayalam_truelabels=get_truelabels(\"task2malayalam-labels\")\n",
        "task2punjabi_truelabels=get_truelabels(\"task2punjabi-labels\")"
      ],
      "execution_count": 0,
      "outputs": []
    },
    {
      "cell_type": "code",
      "metadata": {
        "id": "ku1u2R86sfo3",
        "colab_type": "code",
        "colab": {}
      },
      "source": [
        "def eval_predictions(task_lang_output,task_lang_truelabels):\n",
        "  true_predictions=0\n",
        "  false_predictions=0\n",
        "  for i in range(len(task_lang_output)):\n",
        "    if(task_lang_output[i]==task_lang_truelabels[i]):\n",
        "      true_predictions+=1\n",
        "    else:\n",
        "      false_predictions+=1\n",
        "\n",
        "\n",
        "  print(\"\\nTrue predictions:\",true_predictions)\n",
        "  print(\"False predictions:\",false_predictions)\n",
        "  \n",
        "  # print(task_lang_output)\n",
        "  # print(task_lang_truelabels)\n",
        "  accuracy=true_predictions/len(task_lang_output)*100\n",
        "  print(\"Acuuracy:\",accuracy,\"%\")\n",
        "  print(\"**********************************************\")\n",
        "\n"
      ],
      "execution_count": 0,
      "outputs": []
    },
    {
      "cell_type": "code",
      "metadata": {
        "id": "_HiabYaAN9bZ",
        "colab_type": "code",
        "colab": {}
      },
      "source": [
        "# print(\"Task1-Tamil:\",end=\"\")\n",
        "# task1tamil_eval=eval_predictions(task1tamil_output,task1tamil_truelabels)\n",
        "# print(\"Task2-Tamil:\",end=\"\")\n",
        "# task2tamil_eval=eval_predictions(task2tamil_output,task2tamil_truelabels)\n",
        "# print(\"----------------------------------------------------------------------------------------------------------------\")\n",
        "# print(\"Task1-Hindi:\",end=\"\")\n",
        "# task1hindi_eval=eval_predictions(task1hindi_output,task1hindi_truelabels)\n",
        "# print(\"Task2-Hindi:\",end=\"\")\n",
        "# task2hindi_eval=eval_predictions(task2hindi_output,task2hindi_truelabels)\n",
        "# print(\"----------------------------------------------------------------------------------------------------------------\")\n",
        "# print(\"Task1-Malayalam:\",end=\"\")\n",
        "# task1malayalam_eval=eval_predictions(task1malayalam_output,task1malayalam_truelabels)\n",
        "# print(\"Task2-Malayalam:\",end=\"\")\n",
        "# task2malayalam_eval=eval_predictions(task2malayalam_output,task2malayalam_truelabels)\n",
        "# print(\"----------------------------------------------------------------------------------------------------------------\")\n",
        "# print(\"Task1-Punjabi:\",end=\"\")\n",
        "# task1punjabi_eval=eval_predictions(task1punjabi_output,task1punjabi_truelabels)\n",
        "# print(\"Task2-Punjabi:\",end=\"\")\n",
        "# task2punjabi_eval=eval_predictions(task2punjabi_output,task2punjabi_truelabels)\n",
        "# print(\"----------------------------------------------------------------------------------------------------------------\")"
      ],
      "execution_count": 0,
      "outputs": []
    },
    {
      "cell_type": "markdown",
      "metadata": {
        "id": "bi2M8ueqdmTm",
        "colab_type": "text"
      },
      "source": [
        "**BERT**\n",
        "\n",
        "---\n",
        "\n"
      ]
    },
    {
      "cell_type": "code",
      "metadata": {
        "id": "BAD2msN4dxNh",
        "colab_type": "code",
        "outputId": "6ee8eff1-8485-4126-e8fe-e7b6681416be",
        "colab": {
          "base_uri": "https://localhost:8080/",
          "height": 799
        }
      },
      "source": [
        "print(\"BERT RESULTS\")\n",
        "print(\"----------------------------------------------------------------------------------------------------------------\")\n",
        "print(\"Task1-Tamil:\",end=\"\")\n",
        "BERT_task1tamil_eval=eval_predictions(BERT_task1tamil_output,task1tamil_truelabels)\n",
        "print(\"Task2-Tamil:\",end=\"\")\n",
        "BERT_task2tamil_eval=eval_predictions(BERT_task2tamil_output,task2tamil_truelabels)\n",
        "print(\"----------------------------------------------------------------------------------------------------------------\")\n",
        "print(\"Task1-Hindi:\",end=\"\")\n",
        "BERT_task1hindi_eval=eval_predictions(BERT_task1hindi_output,task1hindi_truelabels)\n",
        "print(\"Task2-Hindi:\",end=\"\")\n",
        "BERT_task2hindi_eval=eval_predictions(BERT_task2hindi_output,task2hindi_truelabels)\n",
        "print(\"----------------------------------------------------------------------------------------------------------------\")\n",
        "print(\"Task1-Malayalam:\",end=\"\")\n",
        "BERT_task1malayalam_eval=eval_predictions(BERT_task1malayalam_output,task1malayalam_truelabels)\n",
        "print(\"Task2-Malayalam:\",end=\"\")\n",
        "BERT_task2malayalam_eval=eval_predictions(BERT_task2malayalam_output,task2malayalam_truelabels)\n",
        "print(\"----------------------------------------------------------------------------------------------------------------\")\n",
        "print(\"Task1-Punjabi:\",end=\"\")\n",
        "BERT_task1punjabi_eval=eval_predictions(BERT_task1punjabi_output,task1punjabi_truelabels)\n",
        "print(\"Task2-Punjabi:\",end=\"\")\n",
        "BERT_task2punjabi_eval=eval_predictions(BERT_task2punjabi_output,task2punjabi_truelabels)\n",
        "print(\"----------------------------------------------------------------------------------------------------------------\")"
      ],
      "execution_count": 19,
      "outputs": [
        {
          "output_type": "stream",
          "text": [
            "BERT RESULTS\n",
            "----------------------------------------------------------------------------------------------------------------\n",
            "Task1-Tamil:\n",
            "True predictions: 526\n",
            "False predictions: 374\n",
            "Acuuracy: 58.44444444444444 %\n",
            "**********************************************\n",
            "Task2-Tamil:\n",
            "True predictions: 624\n",
            "False predictions: 776\n",
            "Acuuracy: 44.57142857142857 %\n",
            "**********************************************\n",
            "----------------------------------------------------------------------------------------------------------------\n",
            "Task1-Hindi:\n",
            "True predictions: 767\n",
            "False predictions: 133\n",
            "Acuuracy: 85.22222222222223 %\n",
            "**********************************************\n",
            "Task2-Hindi:\n",
            "True predictions: 758\n",
            "False predictions: 642\n",
            "Acuuracy: 54.142857142857146 %\n",
            "**********************************************\n",
            "----------------------------------------------------------------------------------------------------------------\n",
            "Task1-Malayalam:\n",
            "True predictions: 590\n",
            "False predictions: 310\n",
            "Acuuracy: 65.55555555555556 %\n",
            "**********************************************\n",
            "Task2-Malayalam:\n",
            "True predictions: 794\n",
            "False predictions: 606\n",
            "Acuuracy: 56.714285714285715 %\n",
            "**********************************************\n",
            "----------------------------------------------------------------------------------------------------------------\n",
            "Task1-Punjabi:\n",
            "True predictions: 429\n",
            "False predictions: 71\n",
            "Acuuracy: 85.8 %\n",
            "**********************************************\n",
            "Task2-Punjabi:\n",
            "True predictions: 473\n",
            "False predictions: 277\n",
            "Acuuracy: 63.06666666666667 %\n",
            "**********************************************\n",
            "----------------------------------------------------------------------------------------------------------------\n"
          ],
          "name": "stdout"
        }
      ]
    },
    {
      "cell_type": "markdown",
      "metadata": {
        "id": "w3rlc7g8ea69",
        "colab_type": "text"
      },
      "source": [
        "**USE**"
      ]
    },
    {
      "cell_type": "code",
      "metadata": {
        "id": "w0GUT8pkedCE",
        "colab_type": "code",
        "outputId": "3a7fa343-1c5e-4242-a57c-23f9359b72b1",
        "colab": {
          "base_uri": "https://localhost:8080/",
          "height": 799
        }
      },
      "source": [
        "print(\"USE RESULTS\")\n",
        "print(\"----------------------------------------------------------------------------------------------------------------\")\n",
        "print(\"Task1-Tamil:\",end=\"\")\n",
        "USE_task1tamil_eval=eval_predictions(USE_task1tamil_output,task1tamil_truelabels)\n",
        "print(\"Task2-Tamil:\",end=\"\")\n",
        "USE_task2tamil_eval=eval_predictions(USE_task2tamil_output,task2tamil_truelabels)\n",
        "print(\"----------------------------------------------------------------------------------------------------------------\")\n",
        "print(\"Task1-Hindi:\",end=\"\")\n",
        "USE_task1hindi_eval=eval_predictions(USE_task1hindi_output,task1hindi_truelabels)\n",
        "print(\"Task2-Hindi:\",end=\"\")\n",
        "USE_task2hindi_eval=eval_predictions(USE_task2hindi_output,task2hindi_truelabels)\n",
        "print(\"----------------------------------------------------------------------------------------------------------------\")\n",
        "print(\"Task1-Malayalam:\",end=\"\")\n",
        "USE_task1malayalam_eval=eval_predictions(USE_task1malayalam_output,task1malayalam_truelabels)\n",
        "print(\"Task2-Malayalam:\",end=\"\")\n",
        "USE_task2malayalam_eval=eval_predictions(USE_task2malayalam_output,task2malayalam_truelabels)\n",
        "print(\"----------------------------------------------------------------------------------------------------------------\")\n",
        "print(\"Task1-Punjabi:\",end=\"\")\n",
        "USE_task1punjabi_eval=eval_predictions(USE_task1punjabi_output,task1punjabi_truelabels)\n",
        "print(\"Task2-Punjabi:\",end=\"\")\n",
        "USE_task2punjabi_eval=eval_predictions(USE_task2punjabi_output,task2punjabi_truelabels)\n",
        "print(\"----------------------------------------------------------------------------------------------------------------\")"
      ],
      "execution_count": 20,
      "outputs": [
        {
          "output_type": "stream",
          "text": [
            "USE RESULTS\n",
            "----------------------------------------------------------------------------------------------------------------\n",
            "Task1-Tamil:\n",
            "True predictions: 486\n",
            "False predictions: 414\n",
            "Acuuracy: 54.0 %\n",
            "**********************************************\n",
            "Task2-Tamil:\n",
            "True predictions: 308\n",
            "False predictions: 1092\n",
            "Acuuracy: 22.0 %\n",
            "**********************************************\n",
            "----------------------------------------------------------------------------------------------------------------\n",
            "Task1-Hindi:\n",
            "True predictions: 504\n",
            "False predictions: 396\n",
            "Acuuracy: 56.00000000000001 %\n",
            "**********************************************\n",
            "Task2-Hindi:\n",
            "True predictions: 482\n",
            "False predictions: 918\n",
            "Acuuracy: 34.42857142857143 %\n",
            "**********************************************\n",
            "----------------------------------------------------------------------------------------------------------------\n",
            "Task1-Malayalam:\n",
            "True predictions: 505\n",
            "False predictions: 395\n",
            "Acuuracy: 56.111111111111114 %\n",
            "**********************************************\n",
            "Task2-Malayalam:\n",
            "True predictions: 501\n",
            "False predictions: 899\n",
            "Acuuracy: 35.785714285714285 %\n",
            "**********************************************\n",
            "----------------------------------------------------------------------------------------------------------------\n",
            "Task1-Punjabi:\n",
            "True predictions: 291\n",
            "False predictions: 209\n",
            "Acuuracy: 58.199999999999996 %\n",
            "**********************************************\n",
            "Task2-Punjabi:\n",
            "True predictions: 275\n",
            "False predictions: 475\n",
            "Acuuracy: 36.666666666666664 %\n",
            "**********************************************\n",
            "----------------------------------------------------------------------------------------------------------------\n"
          ],
          "name": "stdout"
        }
      ]
    },
    {
      "cell_type": "code",
      "metadata": {
        "id": "fKCmf0mCt6Q_",
        "colab_type": "code",
        "outputId": "b832c3cb-e05a-420b-d53a-917e5c9b75ad",
        "colab": {
          "base_uri": "https://localhost:8080/",
          "height": 799
        }
      },
      "source": [
        "print(\"Seq2Seq RESULTS\")\n",
        "print(\"----------------------------------------------------------------------------------------------------------------\")\n",
        "print(\"Task1-Tamil:\",end=\"\")\n",
        "SEQ_task1tamil_eval=eval_predictions(SEQ_task1tamil_output,task1tamil_truelabels)\n",
        "print(\"Task2-Tamil:\",end=\"\")\n",
        "SEQ_task2tamil_eval=eval_predictions(SEQ_task2tamil_output,task2tamil_truelabels)\n",
        "print(\"----------------------------------------------------------------------------------------------------------------\")\n",
        "print(\"Task1-Hindi:\",end=\"\")\n",
        "SEQ_task1hindi_eval=eval_predictions(SEQ_task1hindi_output,task1hindi_truelabels)\n",
        "print(\"Task2-Hindi:\",end=\"\")\n",
        "SEQ_task2hindi_eval=eval_predictions(SEQ_task2hindi_output,task2hindi_truelabels)\n",
        "print(\"----------------------------------------------------------------------------------------------------------------\")\n",
        "print(\"Task1-Malayalam:\",end=\"\")\n",
        "SEQ_task1malayalam_eval=eval_predictions(SEQ_task1malayalam_output,task1malayalam_truelabels)\n",
        "print(\"Task2-Malayalam:\",end=\"\")\n",
        "SEQ_task2malayalam_eval=eval_predictions(SEQ_task2malayalam_output,task2malayalam_truelabels)\n",
        "print(\"----------------------------------------------------------------------------------------------------------------\")\n",
        "print(\"Task1-Punjabi:\",end=\"\")\n",
        "SEQ_task1punjabi_eval=eval_predictions(SEQ_task1punjabi_output,task1punjabi_truelabels)\n",
        "print(\"Task2-Punjabi:\",end=\"\")\n",
        "SEQ_task2punjabi_eval=eval_predictions(SEQ_task2punjabi_output,task2punjabi_truelabels)\n",
        "print(\"----------------------------------------------------------------------------------------------------------------\")"
      ],
      "execution_count": 21,
      "outputs": [
        {
          "output_type": "stream",
          "text": [
            "Seq2Seq RESULTS\n",
            "----------------------------------------------------------------------------------------------------------------\n",
            "Task1-Tamil:\n",
            "True predictions: 474\n",
            "False predictions: 426\n",
            "Acuuracy: 52.666666666666664 %\n",
            "**********************************************\n",
            "Task2-Tamil:\n",
            "True predictions: 694\n",
            "False predictions: 706\n",
            "Acuuracy: 49.57142857142857 %\n",
            "**********************************************\n",
            "----------------------------------------------------------------------------------------------------------------\n",
            "Task1-Hindi:\n",
            "True predictions: 500\n",
            "False predictions: 400\n",
            "Acuuracy: 55.55555555555556 %\n",
            "**********************************************\n",
            "Task2-Hindi:\n",
            "True predictions: 476\n",
            "False predictions: 924\n",
            "Acuuracy: 34.0 %\n",
            "**********************************************\n",
            "----------------------------------------------------------------------------------------------------------------\n",
            "Task1-Malayalam:\n",
            "True predictions: 522\n",
            "False predictions: 378\n",
            "Acuuracy: 57.99999999999999 %\n",
            "**********************************************\n",
            "Task2-Malayalam:\n",
            "True predictions: 499\n",
            "False predictions: 901\n",
            "Acuuracy: 35.642857142857146 %\n",
            "**********************************************\n",
            "----------------------------------------------------------------------------------------------------------------\n",
            "Task1-Punjabi:\n",
            "True predictions: 250\n",
            "False predictions: 250\n",
            "Acuuracy: 50.0 %\n",
            "**********************************************\n",
            "Task2-Punjabi:\n",
            "True predictions: 250\n",
            "False predictions: 500\n",
            "Acuuracy: 33.33333333333333 %\n",
            "**********************************************\n",
            "----------------------------------------------------------------------------------------------------------------\n"
          ],
          "name": "stdout"
        }
      ]
    },
    {
      "cell_type": "code",
      "metadata": {
        "id": "tFx8jhc2bO8F",
        "colab_type": "code",
        "outputId": "66a0d8bc-89ca-4de3-f970-ba6af1da89d2",
        "colab": {
          "base_uri": "https://localhost:8080/",
          "height": 181
        }
      },
      "source": [
        "# from sklearn.metrics import accuracy_score\n",
        "# accuracy_score(task1tamil_output,task1tamil_truelabels)"
      ],
      "execution_count": 22,
      "outputs": [
        {
          "output_type": "error",
          "ename": "NameError",
          "evalue": "ignored",
          "traceback": [
            "\u001b[0;31m---------------------------------------------------------------------------\u001b[0m",
            "\u001b[0;31mNameError\u001b[0m                                 Traceback (most recent call last)",
            "\u001b[0;32m<ipython-input-22-208ba31d8d81>\u001b[0m in \u001b[0;36m<module>\u001b[0;34m()\u001b[0m\n\u001b[1;32m      1\u001b[0m \u001b[0;32mfrom\u001b[0m \u001b[0msklearn\u001b[0m\u001b[0;34m.\u001b[0m\u001b[0mmetrics\u001b[0m \u001b[0;32mimport\u001b[0m \u001b[0maccuracy_score\u001b[0m\u001b[0;34m\u001b[0m\u001b[0;34m\u001b[0m\u001b[0m\n\u001b[0;32m----> 2\u001b[0;31m \u001b[0maccuracy_score\u001b[0m\u001b[0;34m(\u001b[0m\u001b[0mtask1tamil_output\u001b[0m\u001b[0;34m,\u001b[0m\u001b[0mtask1tamil_truelabels\u001b[0m\u001b[0;34m)\u001b[0m\u001b[0;34m\u001b[0m\u001b[0;34m\u001b[0m\u001b[0m\n\u001b[0m",
            "\u001b[0;31mNameError\u001b[0m: name 'task1tamil_output' is not defined"
          ]
        }
      ]
    },
    {
      "cell_type": "code",
      "metadata": {
        "id": "npnqiXRfbrsW",
        "colab_type": "code",
        "colab": {}
      },
      "source": [
        "# from sklearn.metrics import precision_score\n",
        "# precision_score(task1tamil_output,task1tamil_truelabels,average='weighted')"
      ],
      "execution_count": 0,
      "outputs": []
    },
    {
      "cell_type": "code",
      "metadata": {
        "id": "G6kJSGPpcRMg",
        "colab_type": "code",
        "colab": {}
      },
      "source": [
        "# from sklearn.metrics import recall_score\n",
        "# recall_score(task1tamil_output,task1tamil_truelabels, average='weighted')"
      ],
      "execution_count": 0,
      "outputs": []
    },
    {
      "cell_type": "code",
      "metadata": {
        "id": "g9vzKBgMckEC",
        "colab_type": "code",
        "colab": {}
      },
      "source": [
        "# from sklearn.metrics import f1_score\n",
        "# f1_score(task1tamil_output,task1tamil_truelabels, average='weighted')"
      ],
      "execution_count": 0,
      "outputs": []
    },
    {
      "cell_type": "code",
      "metadata": {
        "id": "VlQ8CvfNmpzj",
        "colab_type": "code",
        "colab": {}
      },
      "source": [
        "def generate_combined_probability_average(bert,use,seq,task):\n",
        "  overall_probability=[]\n",
        "  # print(bert)\n",
        "  # print(use)\n",
        "  # print(seq)\n",
        "  if(task==1):\n",
        "    for i in range(len(bert)):\n",
        "      average_NP=(bert[i][0]+use[i][0]+seq[i][0])/3\n",
        "      average_P=(bert[i][1]+use[i][1]+seq[i][1])/3\n",
        "      overall_probability.append([average_NP,average_P])\n",
        "  else:\n",
        "    for i in range(len(bert)):\n",
        "      average_NP=(bert[i][0]+use[i][0]+seq[i][0])/3\n",
        "      average_P=(bert[i][1]+use[i][1]+seq[i][1])/3\n",
        "      average_SP=(bert[i][2]+use[i][2]+seq[i][2])/3\n",
        "      overall_probability.append([average_NP,average_P,average_SP])\n",
        "\n",
        "  return overall_probability\n",
        "\n",
        "\n",
        "def generate_combined_probability_majority(bert,use,seq,task):\n",
        "  # print(bert)\n",
        "  # print(use)\n",
        "  # print(seq)\n",
        "  overall_prediction=[]\n",
        "  if(task==1):\n",
        "    for i in range(len(bert)):\n",
        "      row=[bert[i],use[i],seq[i]]\n",
        "      NP=row.count(0)\n",
        "      P=row.count(1)\n",
        "      if(NP>P):\n",
        "        overall_prediction.append(0)\n",
        "      else:\n",
        "        overall_prediction.append(1)\n",
        "  else:\n",
        "    for i in range(len(bert)):\n",
        "      row=[bert[i],use[i],seq[i]]\n",
        "      NP=row.count(0)\n",
        "      P=row.count(1)\n",
        "      SP=row.count(2)\n",
        "      if(NP>=2):\n",
        "        overall_prediction.append(0)\n",
        "      elif(P>=2):\n",
        "        overall_prediction.append(1)\n",
        "      elif(SP>=2):\n",
        "        overall_prediction.append(2)\n",
        "      else:\n",
        "        overall_prediction.append(0)\n",
        "  return overall_prediction\n",
        "\n",
        "def predict_results(result_list):\n",
        "  final_result=[]\n",
        "  for i in range(len(result_list)):\n",
        "    pos=result_list[i].index(max(result_list[i]))\n",
        "    final_result.append(pos)\n",
        "  return final_result\n",
        "\n",
        "\n",
        "\n"
      ],
      "execution_count": 0,
      "outputs": []
    },
    {
      "cell_type": "code",
      "metadata": {
        "id": "RyEZ7PRViQRn",
        "colab_type": "code",
        "colab": {
          "base_uri": "https://localhost:8080/",
          "height": 513
        },
        "outputId": "9de67f8b-21cb-408e-d2d9-847563d9cee2"
      },
      "source": [
        "task1tamil_combined_probability=generate_combined_probability_average(BERT_task1tamil_results,USE_task1tamil_results,SEQ_task1tamil_results,1)\n",
        "task1hindi_combined_probability=generate_combined_probability_average(BERT_task1hindi_results,USE_task1hindi_results,SEQ_task1hindi_results,1)\n",
        "task1malayalam_combined_probability=generate_combined_probability_average(BERT_task1malayalam_results,USE_task1malayalam_results,SEQ_task1malayalam_results,1)\n",
        "task1punjabi_combined_probability=generate_combined_probability_average(BERT_task1punjabi_results,USE_task1punjabi_results,SEQ_task1punjabi_results,1)\n",
        "\n",
        "print(\"TASK1-TAMIL\")\n",
        "task1tamil_combined_predictions=predict_results(task1tamil_combined_probability)\n",
        "print(task1tamil_combined_predictions)\n",
        "task1tamil_combined_eval=eval_predictions(task1tamil_combined_predictions,task1tamil_truelabels)\n",
        "print(\"TASK1-HINDI\")\n",
        "task1hindi_combined_predictions=predict_results(task1hindi_combined_probability)\n",
        "print(task1hindi_combined_predictions)\n",
        "task1hindi_combined_eval=eval_predictions(task1hindi_combined_predictions,task1hindi_truelabels)\n",
        "print(\"TASK1-MALAYALAM\")\n",
        "task1malayalam_combined_predictions=predict_results(task1malayalam_combined_probability)\n",
        "print(task1tamil_combined_predictions)\n",
        "task1malayalam_combined_eval=eval_predictions(task1malayalam_combined_predictions,task1malayalam_truelabels)\n",
        "print(\"TASK1-PUNJABI\")\n",
        "task1punjabi_combined_predictions=predict_results(task1punjabi_combined_probability)\n",
        "print(task1punjabi_combined_predictions)\n",
        "task1punjabi_combined_eval=eval_predictions(task1punjabi_combined_predictions,task1punjabi_truelabels)"
      ],
      "execution_count": 26,
      "outputs": [
        {
          "output_type": "stream",
          "text": [
            "TASK1-TAMIL\n",
            "[0, 0, 0, 0, 0, 0, 0, 0, 0, 0, 0, 0, 0, 0, 0, 0, 0, 1, 0, 0, 0, 0, 0, 0, 0, 0, 0, 0, 0, 0, 0, 0, 0, 0, 0, 0, 1, 0, 0, 0, 0, 0, 0, 0, 0, 0, 0, 0, 0, 0, 0, 0, 0, 0, 0, 0, 1, 0, 0, 0, 0, 0, 0, 0, 0, 0, 0, 0, 1, 0, 0, 0, 0, 0, 0, 0, 0, 0, 0, 0, 0, 0, 0, 0, 0, 0, 0, 0, 0, 0, 0, 0, 0, 0, 0, 0, 0, 0, 0, 0, 0, 0, 0, 0, 0, 0, 0, 0, 0, 0, 0, 1, 0, 0, 0, 0, 0, 0, 0, 0, 1, 0, 0, 0, 0, 0, 0, 0, 0, 0, 0, 0, 0, 0, 0, 0, 0, 0, 0, 0, 0, 0, 0, 0, 0, 0, 1, 0, 0, 0, 0, 0, 0, 0, 1, 1, 0, 0, 0, 0, 0, 0, 0, 0, 0, 0, 0, 0, 0, 0, 1, 0, 0, 0, 0, 0, 0, 0, 0, 0, 0, 0, 0, 0, 0, 0, 0, 0, 0, 0, 0, 0, 0, 0, 0, 0, 0, 1, 0, 0, 0, 0, 0, 0, 0, 0, 0, 0, 0, 0, 0, 0, 0, 0, 0, 0, 0, 0, 0, 0, 0, 0, 0, 0, 0, 0, 1, 1, 0, 0, 0, 0, 1, 0, 0, 0, 0, 0, 0, 0, 1, 0, 0, 0, 0, 0, 0, 0, 0, 0, 0, 0, 0, 0, 0, 0, 0, 0, 0, 0, 0, 0, 0, 0, 0, 0, 0, 0, 0, 0, 0, 0, 0, 0, 0, 1, 0, 0, 0, 0, 0, 1, 0, 0, 0, 0, 0, 0, 1, 0, 0, 0, 0, 0, 0, 0, 0, 0, 0, 0, 0, 0, 0, 1, 1, 1, 0, 0, 0, 0, 0, 0, 0, 0, 0, 0, 0, 0, 0, 0, 0, 0, 0, 0, 0, 0, 0, 0, 0, 1, 0, 1, 0, 0, 0, 0, 0, 0, 0, 0, 0, 0, 0, 1, 0, 0, 0, 1, 0, 0, 1, 0, 1, 0, 0, 0, 0, 0, 0, 0, 0, 0, 0, 0, 0, 0, 0, 0, 0, 1, 0, 1, 0, 0, 0, 0, 0, 0, 0, 0, 0, 0, 0, 0, 0, 0, 0, 0, 0, 0, 0, 0, 0, 0, 0, 0, 0, 0, 0, 0, 1, 0, 0, 1, 0, 0, 0, 0, 0, 0, 0, 0, 0, 0, 0, 0, 0, 1, 0, 0, 0, 0, 0, 0, 0, 1, 0, 0, 0, 0, 0, 0, 0, 0, 0, 0, 0, 1, 1, 0, 0, 0, 0, 0, 0, 0, 0, 0, 0, 0, 0, 0, 1, 0, 0, 0, 1, 0, 0, 0, 0, 0, 0, 0, 0, 0, 0, 0, 0, 0, 0, 0, 0, 0, 0, 0, 0, 0, 0, 0, 1, 0, 0, 0, 0, 0, 0, 0, 0, 0, 0, 0, 0, 0, 0, 0, 0, 0, 0, 0, 0, 0, 0, 0, 0, 0, 0, 1, 1, 0, 1, 0, 0, 0, 0, 0, 0, 0, 0, 0, 0, 1, 0, 0, 0, 0, 0, 0, 0, 0, 0, 1, 0, 0, 0, 0, 0, 0, 0, 0, 0, 0, 0, 0, 0, 0, 0, 0, 0, 0, 0, 0, 0, 0, 0, 0, 0, 0, 1, 0, 0, 0, 0, 0, 0, 0, 0, 0, 0, 0, 0, 0, 0, 0, 0, 0, 0, 0, 0, 0, 0, 0, 0, 0, 0, 0, 0, 0, 0, 0, 0, 0, 0, 0, 0, 0, 0, 0, 1, 1, 0, 1, 0, 0, 0, 1, 0, 1, 0, 0, 0, 0, 0, 0, 0, 0, 0, 0, 0, 1, 1, 1, 1, 0, 1, 0, 0, 0, 0, 0, 0, 0, 0, 0, 0, 0, 0, 0, 0, 0, 0, 0, 0, 0, 0, 0, 0, 0, 0, 0, 0, 1, 0, 1, 0, 0, 0, 0, 0, 0, 0, 0, 0, 0, 0, 0, 0, 0, 0, 0, 0, 0, 1, 0, 0, 0, 0, 1, 0, 0, 0, 0, 0, 1, 0, 0, 0, 0, 0, 0, 0, 0, 0, 0, 0, 0, 0, 0, 0, 0, 0, 0, 0, 0, 0, 0, 0, 0, 0, 0, 0, 1, 1, 1, 1, 1, 0, 0, 0, 0, 0, 0, 0, 0, 0, 0, 0, 0, 0, 1, 0, 0, 0, 0, 1, 0, 0, 0, 0, 0, 0, 0, 0, 0, 0, 0, 0, 0, 0, 0, 0, 0, 0, 0, 0, 0, 0, 0, 0, 0, 0, 0, 0, 0, 0, 0, 0, 0, 0, 0, 0, 0, 0, 0, 0, 0, 0, 0, 0, 0, 0, 0, 0, 0, 0, 0, 1, 0, 0, 0, 0, 0, 1, 0, 0, 0, 0, 0, 0, 0, 0, 0, 0, 1, 1, 0, 0, 0, 0, 0, 0, 0, 0, 0, 1, 0, 0, 0, 0, 0, 0, 0, 1, 0, 0, 0, 0, 0, 0, 0, 0, 0, 0, 0, 0, 0, 0, 0, 0, 0, 0, 0, 0, 0, 0, 0, 0, 0, 0, 0, 0, 0, 0, 0, 0, 0, 0, 0, 0, 0, 0, 1, 1, 1, 0, 0, 0, 0, 0, 0, 0, 0, 0, 0, 0, 0, 0, 0, 0, 0, 0, 0, 0, 0, 0, 0, 0, 0, 0, 0, 0, 0, 0, 0, 0, 0, 0, 0, 1, 1]\n",
            "\n",
            "True predictions: 501\n",
            "False predictions: 399\n",
            "Acuuracy: 55.666666666666664 %\n",
            "**********************************************\n",
            "TASK1-HINDI\n",
            "[0, 0, 0, 0, 0, 0, 0, 0, 0, 0, 0, 0, 0, 0, 0, 0, 0, 0, 0, 0, 0, 0, 0, 0, 0, 0, 0, 0, 0, 0, 0, 0, 0, 0, 0, 0, 0, 0, 0, 0, 0, 0, 0, 0, 0, 0, 0, 0, 0, 0, 0, 0, 0, 0, 0, 0, 0, 0, 0, 0, 0, 0, 0, 0, 0, 0, 0, 0, 0, 0, 0, 0, 0, 0, 0, 0, 0, 0, 0, 0, 0, 0, 0, 0, 0, 0, 0, 0, 0, 0, 0, 0, 0, 0, 0, 1, 0, 0, 0, 0, 0, 0, 0, 0, 0, 0, 0, 0, 0, 0, 0, 0, 0, 0, 0, 0, 0, 0, 0, 0, 0, 0, 0, 0, 0, 0, 0, 0, 0, 0, 0, 0, 0, 0, 0, 0, 0, 0, 0, 0, 0, 0, 0, 0, 0, 0, 0, 0, 0, 0, 0, 0, 0, 0, 0, 0, 0, 0, 0, 0, 0, 0, 0, 0, 0, 0, 0, 0, 0, 0, 0, 0, 0, 0, 0, 0, 0, 0, 0, 0, 0, 0, 0, 0, 0, 0, 0, 0, 0, 0, 0, 0, 0, 0, 0, 0, 0, 1, 0, 0, 0, 0, 0, 0, 0, 0, 0, 0, 0, 0, 0, 1, 0, 0, 0, 0, 0, 0, 0, 0, 0, 0, 1, 0, 0, 0, 0, 0, 0, 0, 0, 0, 0, 0, 0, 0, 0, 0, 0, 0, 0, 0, 0, 0, 0, 0, 0, 0, 0, 0, 0, 0, 0, 0, 0, 0, 0, 0, 0, 0, 0, 0, 0, 0, 0, 0, 0, 0, 0, 0, 0, 0, 0, 0, 0, 0, 0, 0, 0, 0, 0, 0, 0, 0, 0, 0, 0, 0, 0, 0, 0, 0, 0, 0, 0, 0, 0, 0, 0, 0, 0, 0, 0, 0, 0, 0, 0, 0, 0, 0, 0, 0, 0, 0, 0, 0, 0, 0, 0, 0, 0, 0, 0, 0, 0, 0, 0, 0, 0, 0, 0, 0, 0, 0, 0, 0, 0, 0, 0, 0, 0, 0, 0, 0, 0, 0, 0, 0, 0, 0, 0, 0, 0, 0, 0, 0, 0, 0, 0, 0, 0, 0, 0, 0, 0, 0, 0, 0, 0, 0, 0, 0, 0, 0, 0, 0, 0, 0, 0, 0, 0, 0, 0, 0, 0, 0, 0, 0, 0, 0, 0, 0, 1, 0, 0, 0, 0, 0, 0, 0, 0, 1, 0, 0, 0, 0, 0, 0, 0, 0, 0, 0, 0, 0, 0, 0, 0, 0, 0, 0, 0, 0, 0, 0, 0, 0, 0, 0, 0, 0, 0, 0, 0, 0, 0, 0, 0, 0, 0, 0, 0, 0, 0, 0, 0, 0, 0, 0, 0, 0, 0, 0, 0, 0, 0, 0, 0, 0, 0, 0, 0, 0, 0, 0, 0, 0, 0, 0, 0, 0, 0, 0, 0, 0, 0, 0, 0, 0, 0, 0, 0, 0, 0, 0, 0, 0, 0, 0, 0, 0, 0, 0, 0, 1, 0, 0, 0, 0, 0, 0, 0, 0, 0, 0, 0, 0, 0, 0, 0, 0, 0, 0, 0, 0, 0, 0, 0, 0, 0, 0, 0, 0, 0, 0, 0, 0, 0, 0, 0, 0, 0, 0, 0, 0, 0, 0, 0, 0, 0, 0, 0, 0, 0, 0, 0, 0, 0, 0, 0, 0, 0, 0, 0, 0, 0, 0, 0, 0, 0, 0, 0, 0, 0, 0, 0, 0, 0, 0, 0, 0, 0, 0, 0, 0, 0, 0, 0, 0, 0, 0, 0, 0, 0, 0, 0, 0, 0, 0, 0, 0, 0, 0, 0, 0, 0, 0, 0, 0, 0, 0, 0, 0, 0, 0, 0, 0, 0, 0, 0, 0, 0, 0, 0, 0, 0, 0, 0, 0, 0, 0, 0, 0, 0, 0, 0, 0, 0, 0, 0, 0, 0, 0, 0, 0, 0, 0, 0, 0, 0, 0, 0, 0, 0, 0, 0, 0, 0, 0, 0, 0, 0, 0, 0, 0, 0, 0, 0, 0, 0, 0, 0, 0, 0, 0, 0, 0, 0, 0, 0, 0, 0, 0, 0, 0, 0, 0, 0, 0, 0, 0, 0, 0, 0, 0, 0, 0, 0, 0, 0, 0, 0, 0, 0, 0, 0, 0, 0, 0, 0, 0, 0, 0, 0, 0, 0, 0, 0, 0, 0, 0, 0, 0, 0, 0, 0, 0, 0, 0, 0, 0, 0, 0, 0, 0, 0, 0, 0, 0, 0, 0, 0, 0, 0, 0, 0, 0, 0, 0, 0, 0, 0, 0, 0, 0, 0, 0, 0, 0, 0, 0, 0, 0, 0, 0, 0, 0, 0, 0, 0, 0, 0, 0, 0, 0, 0, 0, 0, 0, 0, 0, 0, 0, 0, 0, 0, 0, 0, 0, 0, 0, 0, 0, 0, 0, 0, 0, 0, 0, 0, 0, 0, 0, 0, 0, 0, 0, 0, 0, 0, 0, 0, 0, 0, 0, 0, 0, 0, 0, 0, 0, 0, 0, 0, 0, 0, 0, 0, 0, 0, 0, 0, 0, 0, 0, 0, 0, 0, 0, 0, 0, 0, 0, 0, 0, 0, 0, 0, 0, 0, 0, 0, 0, 0, 0, 0, 0, 0, 0, 0, 0, 0, 0, 0, 0, 0, 0, 0, 0, 0, 0, 0, 0, 0, 0, 0, 0, 0, 0, 0, 0, 0, 0, 0, 0, 0, 0, 0, 0, 0, 0, 0, 0, 0, 0, 0, 0, 0, 0, 0, 0, 0, 0, 0, 0, 0, 0, 0, 0, 0, 0]\n",
            "\n",
            "True predictions: 507\n",
            "False predictions: 393\n",
            "Acuuracy: 56.333333333333336 %\n",
            "**********************************************\n",
            "TASK1-MALAYALAM\n",
            "[0, 0, 0, 0, 0, 0, 0, 0, 0, 0, 0, 0, 0, 0, 0, 0, 0, 1, 0, 0, 0, 0, 0, 0, 0, 0, 0, 0, 0, 0, 0, 0, 0, 0, 0, 0, 1, 0, 0, 0, 0, 0, 0, 0, 0, 0, 0, 0, 0, 0, 0, 0, 0, 0, 0, 0, 1, 0, 0, 0, 0, 0, 0, 0, 0, 0, 0, 0, 1, 0, 0, 0, 0, 0, 0, 0, 0, 0, 0, 0, 0, 0, 0, 0, 0, 0, 0, 0, 0, 0, 0, 0, 0, 0, 0, 0, 0, 0, 0, 0, 0, 0, 0, 0, 0, 0, 0, 0, 0, 0, 0, 1, 0, 0, 0, 0, 0, 0, 0, 0, 1, 0, 0, 0, 0, 0, 0, 0, 0, 0, 0, 0, 0, 0, 0, 0, 0, 0, 0, 0, 0, 0, 0, 0, 0, 0, 1, 0, 0, 0, 0, 0, 0, 0, 1, 1, 0, 0, 0, 0, 0, 0, 0, 0, 0, 0, 0, 0, 0, 0, 1, 0, 0, 0, 0, 0, 0, 0, 0, 0, 0, 0, 0, 0, 0, 0, 0, 0, 0, 0, 0, 0, 0, 0, 0, 0, 0, 1, 0, 0, 0, 0, 0, 0, 0, 0, 0, 0, 0, 0, 0, 0, 0, 0, 0, 0, 0, 0, 0, 0, 0, 0, 0, 0, 0, 0, 1, 1, 0, 0, 0, 0, 1, 0, 0, 0, 0, 0, 0, 0, 1, 0, 0, 0, 0, 0, 0, 0, 0, 0, 0, 0, 0, 0, 0, 0, 0, 0, 0, 0, 0, 0, 0, 0, 0, 0, 0, 0, 0, 0, 0, 0, 0, 0, 0, 1, 0, 0, 0, 0, 0, 1, 0, 0, 0, 0, 0, 0, 1, 0, 0, 0, 0, 0, 0, 0, 0, 0, 0, 0, 0, 0, 0, 1, 1, 1, 0, 0, 0, 0, 0, 0, 0, 0, 0, 0, 0, 0, 0, 0, 0, 0, 0, 0, 0, 0, 0, 0, 0, 1, 0, 1, 0, 0, 0, 0, 0, 0, 0, 0, 0, 0, 0, 1, 0, 0, 0, 1, 0, 0, 1, 0, 1, 0, 0, 0, 0, 0, 0, 0, 0, 0, 0, 0, 0, 0, 0, 0, 0, 1, 0, 1, 0, 0, 0, 0, 0, 0, 0, 0, 0, 0, 0, 0, 0, 0, 0, 0, 0, 0, 0, 0, 0, 0, 0, 0, 0, 0, 0, 0, 1, 0, 0, 1, 0, 0, 0, 0, 0, 0, 0, 0, 0, 0, 0, 0, 0, 1, 0, 0, 0, 0, 0, 0, 0, 1, 0, 0, 0, 0, 0, 0, 0, 0, 0, 0, 0, 1, 1, 0, 0, 0, 0, 0, 0, 0, 0, 0, 0, 0, 0, 0, 1, 0, 0, 0, 1, 0, 0, 0, 0, 0, 0, 0, 0, 0, 0, 0, 0, 0, 0, 0, 0, 0, 0, 0, 0, 0, 0, 0, 1, 0, 0, 0, 0, 0, 0, 0, 0, 0, 0, 0, 0, 0, 0, 0, 0, 0, 0, 0, 0, 0, 0, 0, 0, 0, 0, 1, 1, 0, 1, 0, 0, 0, 0, 0, 0, 0, 0, 0, 0, 1, 0, 0, 0, 0, 0, 0, 0, 0, 0, 1, 0, 0, 0, 0, 0, 0, 0, 0, 0, 0, 0, 0, 0, 0, 0, 0, 0, 0, 0, 0, 0, 0, 0, 0, 0, 0, 1, 0, 0, 0, 0, 0, 0, 0, 0, 0, 0, 0, 0, 0, 0, 0, 0, 0, 0, 0, 0, 0, 0, 0, 0, 0, 0, 0, 0, 0, 0, 0, 0, 0, 0, 0, 0, 0, 0, 0, 1, 1, 0, 1, 0, 0, 0, 1, 0, 1, 0, 0, 0, 0, 0, 0, 0, 0, 0, 0, 0, 1, 1, 1, 1, 0, 1, 0, 0, 0, 0, 0, 0, 0, 0, 0, 0, 0, 0, 0, 0, 0, 0, 0, 0, 0, 0, 0, 0, 0, 0, 0, 0, 1, 0, 1, 0, 0, 0, 0, 0, 0, 0, 0, 0, 0, 0, 0, 0, 0, 0, 0, 0, 0, 1, 0, 0, 0, 0, 1, 0, 0, 0, 0, 0, 1, 0, 0, 0, 0, 0, 0, 0, 0, 0, 0, 0, 0, 0, 0, 0, 0, 0, 0, 0, 0, 0, 0, 0, 0, 0, 0, 0, 1, 1, 1, 1, 1, 0, 0, 0, 0, 0, 0, 0, 0, 0, 0, 0, 0, 0, 1, 0, 0, 0, 0, 1, 0, 0, 0, 0, 0, 0, 0, 0, 0, 0, 0, 0, 0, 0, 0, 0, 0, 0, 0, 0, 0, 0, 0, 0, 0, 0, 0, 0, 0, 0, 0, 0, 0, 0, 0, 0, 0, 0, 0, 0, 0, 0, 0, 0, 0, 0, 0, 0, 0, 0, 0, 1, 0, 0, 0, 0, 0, 1, 0, 0, 0, 0, 0, 0, 0, 0, 0, 0, 1, 1, 0, 0, 0, 0, 0, 0, 0, 0, 0, 1, 0, 0, 0, 0, 0, 0, 0, 1, 0, 0, 0, 0, 0, 0, 0, 0, 0, 0, 0, 0, 0, 0, 0, 0, 0, 0, 0, 0, 0, 0, 0, 0, 0, 0, 0, 0, 0, 0, 0, 0, 0, 0, 0, 0, 0, 0, 1, 1, 1, 0, 0, 0, 0, 0, 0, 0, 0, 0, 0, 0, 0, 0, 0, 0, 0, 0, 0, 0, 0, 0, 0, 0, 0, 0, 0, 0, 0, 0, 0, 0, 0, 0, 0, 1, 1]\n",
            "\n",
            "True predictions: 534\n",
            "False predictions: 366\n",
            "Acuuracy: 59.333333333333336 %\n",
            "**********************************************\n",
            "TASK1-PUNJABI\n",
            "[0, 0, 0, 0, 0, 0, 1, 0, 0, 0, 0, 1, 0, 0, 0, 0, 0, 0, 0, 0, 0, 0, 0, 0, 1, 0, 0, 0, 0, 0, 0, 0, 0, 0, 0, 0, 0, 1, 0, 0, 1, 0, 0, 0, 0, 1, 0, 0, 0, 1, 0, 0, 0, 0, 0, 0, 0, 0, 0, 0, 0, 0, 0, 0, 0, 0, 0, 0, 0, 0, 1, 0, 0, 0, 0, 0, 0, 0, 0, 0, 0, 1, 0, 0, 0, 0, 1, 0, 0, 0, 0, 0, 1, 0, 0, 0, 0, 0, 0, 1, 1, 0, 0, 0, 0, 0, 0, 0, 0, 0, 0, 0, 0, 0, 0, 0, 0, 0, 0, 0, 0, 0, 0, 0, 0, 0, 0, 0, 0, 0, 0, 0, 0, 0, 0, 0, 0, 0, 0, 0, 0, 0, 0, 0, 0, 0, 0, 0, 0, 0, 1, 0, 0, 0, 0, 0, 0, 0, 0, 0, 0, 0, 0, 0, 0, 0, 0, 0, 0, 0, 0, 0, 0, 0, 0, 0, 0, 0, 0, 0, 0, 1, 0, 0, 0, 0, 0, 0, 1, 0, 0, 0, 0, 1, 0, 0, 0, 0, 0, 1, 1, 0, 0, 0, 0, 1, 0, 0, 1, 0, 0, 0, 0, 0, 0, 0, 0, 0, 0, 0, 0, 0, 0, 0, 0, 0, 0, 0, 1, 0, 0, 0, 0, 0, 0, 1, 0, 0, 0, 0, 1, 0, 0, 0, 0, 0, 0, 0, 0, 1, 0, 0, 0, 0, 0, 0, 1, 0, 0, 0, 0, 0, 0, 1, 0, 1, 0, 0, 0, 0, 0, 0, 0, 0, 1, 0, 0, 0, 0, 0, 0, 0, 0, 0, 0, 0, 0, 1, 0, 0, 0, 0, 0, 0, 0, 0, 0, 0, 0, 1, 0, 0, 0, 1, 0, 0, 0, 0, 0, 0, 0, 0, 0, 0, 1, 0, 0, 0, 0, 0, 0, 0, 1, 0, 0, 0, 0, 0, 1, 0, 0, 0, 0, 0, 0, 0, 0, 0, 0, 0, 0, 0, 0, 1, 1, 0, 0, 0, 0, 0, 0, 0, 0, 1, 0, 0, 0, 0, 0, 0, 0, 0, 0, 1, 0, 0, 0, 0, 1, 1, 0, 0, 0, 1, 0, 0, 0, 0, 0, 0, 0, 0, 1, 0, 0, 0, 0, 0, 0, 0, 1, 0, 0, 0, 0, 0, 0, 0, 0, 0, 0, 0, 0, 0, 0, 0, 0, 0, 0, 0, 0, 0, 0, 0, 0, 0, 0, 0, 0, 0, 0, 0, 0, 1, 0, 0, 0, 0, 0, 0, 0, 0, 0, 0, 0, 0, 0, 0, 0, 0, 0, 0, 1, 0, 0, 0, 0, 1, 0, 0, 0, 0, 0, 0, 0, 0, 1, 0, 0, 1, 1, 0, 0, 0, 0, 0, 0, 0, 1, 0, 1, 0, 0, 0, 0, 0, 0, 0, 0, 0, 0, 0, 0, 0, 0, 0, 0, 0, 1, 0, 0, 0, 0, 0, 1, 0, 0, 0, 0, 0]\n",
            "\n",
            "True predictions: 302\n",
            "False predictions: 198\n",
            "Acuuracy: 60.4 %\n",
            "**********************************************\n"
          ],
          "name": "stdout"
        }
      ]
    },
    {
      "cell_type": "code",
      "metadata": {
        "id": "2aBdqC_ok9M_",
        "colab_type": "code",
        "colab": {
          "base_uri": "https://localhost:8080/",
          "height": 425
        },
        "outputId": "b963508d-ea9f-4143-b97d-ed96b86a9dae"
      },
      "source": [
        "task2tamil_combined_probability=generate_combined_probability_average(BERT_task2tamil_results,USE_task2tamil_results,SEQ_task2tamil_results,2)\n",
        "task2hindi_combined_probability=generate_combined_probability_average(BERT_task2hindi_results,USE_task2hindi_results,SEQ_task2hindi_results,2)\n",
        "task2malayalam_combined_probability=generate_combined_probability_average(BERT_task2malayalam_results,USE_task2malayalam_results,SEQ_task2malayalam_results,2)\n",
        "task2punjabi_combined_probability=generate_combined_probability_average(BERT_task2punjabi_results,USE_task2punjabi_results,SEQ_task2punjabi_results,2)\n",
        "\n",
        "print(\"TASK2-TAMIL\")\n",
        "task2tamil_combined_predictions=predict_results(task2tamil_combined_probability)\n",
        "#print(task2tamil_combined_predictions)\n",
        "task2tamil_combined_eval=eval_predictions(task2tamil_combined_predictions,task2tamil_truelabels)\n",
        "print(\"TASK2-HINDI\")\n",
        "task2hindi_combined_predictions=predict_results(task2hindi_combined_probability)\n",
        "#print(task2hindi_combined_predictions)\n",
        "task2hindi_combined_eval=eval_predictions(task2hindi_combined_predictions,task2hindi_truelabels)\n",
        "print(\"TASK2-MALAYALAM\")\n",
        "task2malayalam_combined_predictions=predict_results(task2malayalam_combined_probability)\n",
        "#print(task2malayalam_combined_predictions)\n",
        "task2malayalam_combined_eval=eval_predictions(task2malayalam_combined_predictions,task2malayalam_truelabels)\n",
        "print(\"TASK2-PUNJABI\")\n",
        "task2punjabi_combined_predictions=predict_results(task2punjabi_combined_probability)\n",
        "#print(task2punjabi_combined_predictions)\n",
        "task2punjabi_combined_eval=eval_predictions(task2punjabi_combined_predictions,task2punjabi_truelabels)"
      ],
      "execution_count": 28,
      "outputs": [
        {
          "output_type": "stream",
          "text": [
            "TASK2-TAMIL\n",
            "\n",
            "True predictions: 697\n",
            "False predictions: 703\n",
            "Acuuracy: 49.785714285714285 %\n",
            "**********************************************\n",
            "TASK2-HINDI\n",
            "\n",
            "True predictions: 518\n",
            "False predictions: 882\n",
            "Acuuracy: 37.0 %\n",
            "**********************************************\n",
            "TASK2-MALAYALAM\n",
            "\n",
            "True predictions: 554\n",
            "False predictions: 846\n",
            "Acuuracy: 39.57142857142858 %\n",
            "**********************************************\n",
            "TASK2-PUNJABI\n",
            "\n",
            "True predictions: 250\n",
            "False predictions: 500\n",
            "Acuuracy: 33.33333333333333 %\n",
            "**********************************************\n"
          ],
          "name": "stdout"
        }
      ]
    },
    {
      "cell_type": "code",
      "metadata": {
        "id": "f2dN3zCe0Db9",
        "colab_type": "code",
        "colab": {}
      },
      "source": [
        "# task1tamil_majority=generate_combined_probability_majority(BERT_task1tamil_output,USE_task1tamil_output,SEQ_task1tamil_output,1)\n",
        "# task1hindi_majority=generate_combined_probability_majority(BERT_task1hindi_output,USE_task1hindi_output,SEQ_task1hindi_output,1)\n",
        "# task1malayalam_majority=generate_combined_probability_majority(BERT_task1malayalam_output,USE_task1malayalam_output,SEQ_task1malayalam_output,1)\n",
        "# task1punjabi_majority=generate_combined_probability_majority(BERT_task1punjabi_output,USE_task1punjabi_output,SEQ_task1punjabi_output,1)\n",
        "\n",
        "# print(task1tamil_majority)\n",
        "# task1tamil_majority_eval=eval_predictions(task1tamil_majority,task1tamil_truelabels)\n",
        "\n",
        "\n",
        "# print((task1hindi_majority))\n",
        "# task1hindi_majority_eval=eval_predictions(task1hindi_majority,task1hindi_truelabels)\n",
        "\n",
        "# print(task1malayalam_majority)\n",
        "# task1malayalam_majority_eval=eval_predictions(task1malayalam_majority,task1malayalam_truelabels)\n",
        "\n",
        "# print(task1tamil_majority)\n",
        "# task1punjabi_majority_eval=eval_predictions(task1punjabi_majority,task1punjabi_truelabels)"
      ],
      "execution_count": 0,
      "outputs": []
    },
    {
      "cell_type": "code",
      "metadata": {
        "id": "dJG43FqC2gQo",
        "colab_type": "code",
        "colab": {}
      },
      "source": [
        "# task2tamil_majority=generate_combined_probability_majority(BERT_task2tamil_output,USE_task2tamil_output,SEQ_task2tamil_output,2)\n",
        "# print(task1tamil_majority)\n",
        "# task2tamil_majority_eval=eval_predictions(task2tamil_majority,task2tamil_truelabels)\n",
        "\n",
        "# task2hindi_majority=generate_combined_probability_majority(BERT_task2hindi_output,USE_task2hindi_output,SEQ_task2hindi_output,2)\n",
        "# print(task1hindi_majority)\n",
        "# task2hindi_majority_eval=eval_predictions(task2hindi_majority,task2hindi_truelabels)\n",
        "\n",
        "# task2malayalam_majority=generate_combined_probability_majority(BERT_task2malayalam_output,USE_task2malayalam_output,SEQ_task2malayalam_output,2)\n",
        "# print(task1malayalam_majority)\n",
        "# task2malayalam_majority_eval=eval_predictions(task2malayalam_majority,task2malayalam_truelabels)\n",
        "\n",
        "# task2punjabi_majority=generate_combined_probability_majority(BERT_task2punjabi_output,USE_task2punjabi_output,SEQ_task2punjabi_output,2)\n",
        "# print(task1tamil_majority)\n",
        "# task2punjabi_majority_eval=eval_predictions(task2punjabi_majority,task2punjabi_truelabels)"
      ],
      "execution_count": 0,
      "outputs": []
    }
  ]
}